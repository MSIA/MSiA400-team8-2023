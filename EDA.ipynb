{
 "cells": [
  {
   "cell_type": "code",
   "execution_count": null,
   "id": "a5544e39-1f28-4db7-9913-a3557f209492",
   "metadata": {},
   "outputs": [],
   "source": [
    "import pandas as pd\n",
    "import random\n",
    "import numpy as np"
   ]
  },
  {
   "cell_type": "code",
   "execution_count": null,
   "id": "b4ea9296-c090-4198-b825-3b8273086b46",
   "metadata": {},
   "outputs": [],
   "source": [
    "# v4 is the 2 million dataset before cleaning, you can ask Li Cheng to share the csv with you.\n",
    "# You may need to change the path. \n",
    "dat = pd.read_csv(\"/Users/komono/Desktop/400data_v4.csv\",index_col = 0)\n",
    "dat.head()"
   ]
  },
  {
   "cell_type": "markdown",
   "id": "9d801753-757b-4a93-bd54-517929137ec2",
   "metadata": {},
   "source": [
    "### Drop the columns Unnamed: 0.1 and upc(the unique item id)\n",
    "### Convert binary_discount to 0 and 1"
   ]
  },
  {
   "cell_type": "code",
   "execution_count": null,
   "id": "4f1ee236-a26f-4991-b70c-788b4bc63385",
   "metadata": {},
   "outputs": [],
   "source": [
    "dat.drop(columns = [\"Unnamed: 0.1\",\"upc\"], axis = 1, inplace = True)"
   ]
  },
  {
   "cell_type": "code",
   "execution_count": null,
   "id": "9eea106e-ccb4-4662-a69c-3088e1f13bfc",
   "metadata": {},
   "outputs": [],
   "source": [
    "dat['discount'] = np.where(dat['binary_discount'] == \"discount_price\", 1, 0)"
   ]
  },
  {
   "cell_type": "code",
   "execution_count": null,
   "id": "f5bc63e9-9d25-44df-81ed-d62b8fb05117",
   "metadata": {},
   "outputs": [],
   "source": [
    "dat.drop(columns = ['binary_discount'], axis = 1, inplace = True)"
   ]
  },
  {
   "cell_type": "code",
   "execution_count": null,
   "id": "004da340-d251-4684-a0b5-855d33177949",
   "metadata": {},
   "outputs": [],
   "source": [
    "# The very original dataset is fairly balance, with seventy million rows, I random sampled into 2 million.\n",
    "# Here v4 has 2 million rows.\n",
    "dat['discount'].value_counts()"
   ]
  },
  {
   "cell_type": "code",
   "execution_count": null,
   "id": "9c60b9dc-61bf-441e-8519-8e88b59e6d34",
   "metadata": {},
   "outputs": [],
   "source": [
    "dat.reset_index(drop = True, inplace = True)"
   ]
  },
  {
   "cell_type": "code",
   "execution_count": null,
   "id": "c8f8d4be-136f-4ac3-a453-96806710c299",
   "metadata": {},
   "outputs": [],
   "source": [
    "# You can update the path on your side.\n",
    "# Save the current csv and do one-hot encoding later.\n",
    "dat.to_csv(\"/Users/komono/Desktop/400data_v1.csv\",index = False)"
   ]
  },
  {
   "cell_type": "markdown",
   "id": "049962e9-5e7f-406d-84ab-0611ed599489",
   "metadata": {},
   "source": [
    "### Convert date to month and do One-Hot Encoding for month, zip, and state"
   ]
  },
  {
   "cell_type": "code",
   "execution_count": null,
   "id": "6532cacf-a711-4d1e-a51b-5342c983d343",
   "metadata": {},
   "outputs": [],
   "source": [
    "df = pd.read_csv(\"/Users/komono/Desktop/400data_v1.csv\")"
   ]
  },
  {
   "cell_type": "code",
   "execution_count": null,
   "id": "4fe4afa9-0d7e-4f44-9887-697e31288f28",
   "metadata": {},
   "outputs": [],
   "source": [
    "from datetime import datetime\n",
    "\n",
    "# Drop rows with null values in any of the three columns\n",
    "df.dropna(subset = ['saledate','retail','orgprice'], inplace = True)\n",
    "\n",
    "h = df['saledate'].astype(str).str.split(\"-\")\n",
    "\n",
    "month = [h[i][1] for i in range(len(df))]\n",
    "df['month'] = month\n",
    "df1 = pd.get_dummies(df, columns = ['month','zip','state'])\n",
    "df1.head()"
   ]
  },
  {
   "cell_type": "markdown",
   "id": "acaba3a9-13e4-4d1e-b6a1-ed0f6dd5701c",
   "metadata": {},
   "source": [
    "### Cluster brand"
   ]
  },
  {
   "cell_type": "code",
   "execution_count": null,
   "id": "16634d29-994f-42a7-a911-c14a30f64a16",
   "metadata": {},
   "outputs": [],
   "source": [
    "import psycopg2\n",
    "import matplotlib.pyplot as plt"
   ]
  },
  {
   "cell_type": "code",
   "execution_count": null,
   "id": "9b0fa1a2-08a0-47ee-95b1-56a5514f7582",
   "metadata": {},
   "outputs": [],
   "source": [
    "password = input(\"Password for MSiA: \")\n",
    "conn = psycopg2.connect(\n",
    "    host=\"pg.analytics.northwestern.edu\",\n",
    "    database=\"2022-everything-team08\",\n",
    "    user=\"zzp8676\", #change here\n",
    "    password=password)\n",
    "\n",
    "print(\"Connected.\")\n",
    "cur = conn.cursor()"
   ]
  },
  {
   "cell_type": "code",
   "execution_count": null,
   "id": "f68e3183-1da0-4411-8fd2-39da4a81b4bc",
   "metadata": {},
   "outputs": [],
   "source": [
    "import pandas.io.sql as psql"
   ]
  },
  {
   "cell_type": "code",
   "execution_count": null,
   "id": "0f0ea126-5bf8-4a96-a44e-9b5b116bbf59",
   "metadata": {},
   "outputs": [],
   "source": [
    "query = \"\"\"\n",
    "SELECT brand, AVG(retail), count(*) \n",
    "FROM msia400.newskuinfo sku\n",
    "JOIN msia400.skstinfo sk\n",
    "ON sk.sku = sku.sku\n",
    "GROUP BY brand\n",
    "ORDER BY avg(retail) DESC\n",
    "\"\"\"\n",
    "\n",
    "df2 = psql.read_sql(query,conn)\n",
    "df2['brand'] = df2['brand'].apply(lambda x: x.strip())\n",
    "df2['avg_log'] = np.log(df2['avg']+1)\n",
    "df2['count_log'] = np.log(df2['count'])\n",
    "\n",
    "df2"
   ]
  },
  {
   "cell_type": "code",
   "execution_count": null,
   "id": "1fd70cb8-d164-402f-be54-70360d310262",
   "metadata": {},
   "outputs": [],
   "source": [
    "# Get all the brands.\n",
    "all_brand = psql.read_sql('SELECT distinct brand FROM msia400.newskuinfo',conn)\n",
    "all_brand['brand'] = all_brand['brand'].apply(lambda x: x.strip())"
   ]
  },
  {
   "cell_type": "markdown",
   "id": "ae1fea2f-f1be-47ad-bc05-febe018b81a5",
   "metadata": {},
   "source": [
    "### The first cluster: No transaction occurred."
   ]
  },
  {
   "cell_type": "code",
   "execution_count": null,
   "id": "80b17acc-4abf-4138-88d2-96a965b9e818",
   "metadata": {},
   "outputs": [],
   "source": [
    "# All brands in df2 have at least one transaction, so brands from all_brand that does not\n",
    "# occur in df2['brands'] means no transaction, which is our first cluster.\n",
    "\n",
    "empty_brand = []\n",
    "for brand in all_brand['brand']:\n",
    "    if brand.strip() not in list(df2['brand']):\n",
    "        empty_brand.append(brand.strip())\n",
    "\n",
    "print(len(empty_brand))\n",
    "empty_brand = set(empty_brand)"
   ]
  },
  {
   "cell_type": "code",
   "execution_count": null,
   "id": "4467d2c3-9a53-4107-b1cb-c0eb5a90f968",
   "metadata": {},
   "outputs": [],
   "source": [
    "# get all brand that only have count = 1 in skst table. Brands with only one transaction. \n",
    "count1_brand = set(df2[df2['count_log'] == 0]['brand'])"
   ]
  },
  {
   "cell_type": "code",
   "execution_count": null,
   "id": "7bbe4149-adf1-4e5a-8ba9-f39ce4b0f4a6",
   "metadata": {},
   "outputs": [],
   "source": [
    "# split the rest into 4 clusters\n",
    "n = df2[df2['count_log'] != 0].shape[0]//4\n",
    "brand1 = set(df2[df2['count_log'] != 0].iloc[:n,:]['brand'])\n",
    "brand2 = set(df2[df2['count_log'] != 0].iloc[n:2*n,:]['brand'])\n",
    "brand3 = set(df2[df2['count_log'] != 0].iloc[2*n:3*n,:]['brand'])\n",
    "brand4 = set(df2[df2['count_log'] != 0].iloc[3*n:,:]['brand'])"
   ]
  },
  {
   "cell_type": "code",
   "execution_count": null,
   "id": "1e1b14c9-a32f-4512-9149-a0ac75306b8a",
   "metadata": {},
   "outputs": [],
   "source": [
    "# Two clusters defined as the two vertical lines at count_log = 0 and count_log = 1.\n",
    "# The other four clusters were based on quartile. \n",
    "plt.scatter(df2['count_log'], df2['avg_log'])"
   ]
  },
  {
   "cell_type": "code",
   "execution_count": null,
   "id": "c7c04b95-edbb-4cb1-9ab8-1919bfa3ed2a",
   "metadata": {},
   "outputs": [],
   "source": [
    "brand_cluster = []\n",
    "df1['brand'] = df1['brand'].astype(str)\n",
    "\n",
    "for brand in list(df1['brand']):\n",
    "    \n",
    "    b = brand.strip()\n",
    "    \n",
    "    if b in empty_brand:\n",
    "        brand_cluster.append(\"Cluster_1\")\n",
    "    elif b in count1_brand:\n",
    "        brand_cluster.append(\"Cluster_2\")\n",
    "    elif b in brand1:\n",
    "        brand_cluster.append(\"Cluster_3\")\n",
    "    elif b in brand2:\n",
    "        brand_cluster.append(\"Cluster_4\")\n",
    "    elif b in brand3:\n",
    "        brand_cluster.append(\"Cluster_5\")\n",
    "    else:\n",
    "        brand_cluster.append(\"Cluster_6\")\n",
    "\n"
   ]
  },
  {
   "cell_type": "code",
   "execution_count": null,
   "id": "7a75545b-5ba0-4bd9-880b-a2189e6d2ff6",
   "metadata": {},
   "outputs": [],
   "source": [
    "df1['brand_cluster'] = np.array(brand_cluster)"
   ]
  },
  {
   "cell_type": "code",
   "execution_count": null,
   "id": "50038928-1426-411b-948a-4bb6a2181021",
   "metadata": {},
   "outputs": [],
   "source": [
    "df1['brand_cluster'].value_counts()"
   ]
  },
  {
   "cell_type": "code",
   "execution_count": null,
   "id": "130a2e50-0fbf-4057-9548-cc9614a7741e",
   "metadata": {},
   "outputs": [],
   "source": [
    "df3 = pd.get_dummies(df1, columns = ['brand_cluster'])"
   ]
  },
  {
   "cell_type": "code",
   "execution_count": null,
   "id": "b7746c29-2b09-43c0-a419-f62e3655aa69",
   "metadata": {},
   "outputs": [],
   "source": [
    "df3.drop(columns = ['saledate', 'label_y','orgprice','brand'], axis = 1, inplace = True)"
   ]
  },
  {
   "cell_type": "code",
   "execution_count": null,
   "id": "ffd300d6-b13c-4d0b-b7bc-ec5b24ec4ab1",
   "metadata": {},
   "outputs": [],
   "source": [
    "np.log(df3['retail'] + 1).hist(bins = 30)\n",
    "df3['log_retail'] = np.log(df3['retail'] + 1)"
   ]
  },
  {
   "cell_type": "code",
   "execution_count": null,
   "id": "875d05b4-85f5-429a-88a2-28c009d410a8",
   "metadata": {},
   "outputs": [],
   "source": [
    "np.log(df3['cost'] + 1).hist(bins = 30)\n",
    "df3['log_cost'] = np.log(df3['cost'] + 1)"
   ]
  },
  {
   "cell_type": "code",
   "execution_count": null,
   "id": "4aeb091a-b5bf-4670-b503-3536ab05f66d",
   "metadata": {},
   "outputs": [],
   "source": [
    "df3.drop(columns = ['retail','cost'],axis = 1, inplace = True)"
   ]
  },
  {
   "cell_type": "code",
   "execution_count": null,
   "id": "ea91abfa-cd27-4e09-a019-29b90441bc8d",
   "metadata": {},
   "outputs": [],
   "source": [
    "# This v2 csv is the dataset that I shared with you guys during last meeting. \n",
    "df3.to_csv(\"/Users/komono/Desktop/400data_v2.csv\", index = False)"
   ]
  }
 ],
 "metadata": {
  "kernelspec": {
   "display_name": "Python 3 (ipykernel)",
   "language": "python",
   "name": "python3"
  },
  "language_info": {
   "codemirror_mode": {
    "name": "ipython",
    "version": 3
   },
   "file_extension": ".py",
   "mimetype": "text/x-python",
   "name": "python",
   "nbconvert_exporter": "python",
   "pygments_lexer": "ipython3",
   "version": "3.9.12"
  }
 },
 "nbformat": 4,
 "nbformat_minor": 5
}
